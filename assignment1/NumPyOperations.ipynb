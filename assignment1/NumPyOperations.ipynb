{
 "cells": [
  {
   "cell_type": "markdown",
   "metadata": {},
   "source": [
    "### NumPy experiment"
   ]
  },
  {
   "cell_type": "code",
   "execution_count": 1,
   "metadata": {},
   "outputs": [],
   "source": [
    "import numpy as np\n"
   ]
  },
  {
   "cell_type": "code",
   "execution_count": 5,
   "metadata": {},
   "outputs": [
    {
     "data": {
      "text/plain": [
       "array([[  0,   1,   2,   3,   4,   5,   6,   7,   8,   9,  10,  11],\n",
       "       [ 12,  13,  14,  15,  16,  17,  18,  19,  20,  21,  22,  23],\n",
       "       [ 24,  25,  26,  27,  28,  29,  30,  31,  32,  33,  34,  35],\n",
       "       [ 36,  37,  38,  39,  40,  41,  42,  43,  44,  45,  46,  47],\n",
       "       [ 48,  49,  50,  51,  52,  53,  54,  55,  56,  57,  58,  59],\n",
       "       [ 60,  61,  62,  63,  64,  65,  66,  67,  68,  69,  70,  71],\n",
       "       [ 72,  73,  74,  75,  76,  77,  78,  79,  80,  81,  82,  83],\n",
       "       [ 84,  85,  86,  87,  88,  89,  90,  91,  92,  93,  94,  95],\n",
       "       [ 96,  97,  98,  99, 100, 101, 102, 103, 104, 105, 106, 107],\n",
       "       [108, 109, 110, 111, 112, 113, 114, 115, 116, 117, 118, 119]])"
      ]
     },
     "execution_count": 5,
     "metadata": {},
     "output_type": "execute_result"
    }
   ],
   "source": [
    "numClass = 5\n",
    "numTraining = 10\n",
    "numDimension = 12\n",
    "\n",
    "X = np.arange(120)\n",
    "X.shape = (numTraining, numDimension)\n",
    "X"
   ]
  },
  {
   "cell_type": "code",
   "execution_count": 6,
   "metadata": {},
   "outputs": [
    {
     "data": {
      "text/plain": [
       "array([[0. , 0.1, 0.2, 0.3, 0.4],\n",
       "       [0.5, 0.6, 0.7, 0.8, 0.9],\n",
       "       [1. , 1.1, 1.2, 1.3, 1.4],\n",
       "       [1.5, 1.6, 1.7, 1.8, 1.9],\n",
       "       [2. , 2.1, 2.2, 2.3, 2.4],\n",
       "       [2.5, 2.6, 2.7, 2.8, 2.9],\n",
       "       [3. , 3.1, 3.2, 3.3, 3.4],\n",
       "       [3.5, 3.6, 3.7, 3.8, 3.9],\n",
       "       [4. , 4.1, 4.2, 4.3, 4.4],\n",
       "       [4.5, 4.6, 4.7, 4.8, 4.9],\n",
       "       [5. , 5.1, 5.2, 5.3, 5.4],\n",
       "       [5.5, 5.6, 5.7, 5.8, 5.9]])"
      ]
     },
     "execution_count": 6,
     "metadata": {},
     "output_type": "execute_result"
    }
   ],
   "source": [
    "W = np.arange(60)\n",
    "W.shape = (numDimension, numClass)\n",
    "W = W * 0.1\n",
    "W"
   ]
  },
  {
   "cell_type": "code",
   "execution_count": 7,
   "metadata": {},
   "outputs": [
    {
     "data": {
      "text/plain": [
       "array([0, 1, 2, 3, 4, 5, 6, 7, 8, 9])"
      ]
     },
     "execution_count": 7,
     "metadata": {},
     "output_type": "execute_result"
    }
   ],
   "source": [
    "Y = np.arange(10)\n",
    "Y.shape = (numTraining,)\n",
    "Y"
   ]
  },
  {
   "cell_type": "code",
   "execution_count": 42,
   "metadata": {},
   "outputs": [
    {
     "data": {
      "text/plain": [
       "array([0, 1, 2, 3, 4, 0, 1, 2, 3, 4])"
      ]
     },
     "execution_count": 42,
     "metadata": {},
     "output_type": "execute_result"
    }
   ],
   "source": [
    "Y[-5:] = Y[0:5]\n",
    "Y"
   ]
  },
  {
   "cell_type": "code",
   "execution_count": 46,
   "metadata": {},
   "outputs": [
    {
     "data": {
      "text/plain": [
       "array([[ 253. ,  259.6,  266.2,  272.8,  279.4],\n",
       "       [ 649. ,  670. ,  691. ,  712. ,  733. ],\n",
       "       [1045. , 1080.4, 1115.8, 1151.2, 1186.6],\n",
       "       [1441. , 1490.8, 1540.6, 1590.4, 1640.2],\n",
       "       [1837. , 1901.2, 1965.4, 2029.6, 2093.8],\n",
       "       [2233. , 2311.6, 2390.2, 2468.8, 2547.4],\n",
       "       [2629. , 2722. , 2815. , 2908. , 3001. ],\n",
       "       [3025. , 3132.4, 3239.8, 3347.2, 3454.6],\n",
       "       [3421. , 3542.8, 3664.6, 3786.4, 3908.2],\n",
       "       [3817. , 3953.2, 4089.4, 4225.6, 4361.8]])"
      ]
     },
     "execution_count": 46,
     "metadata": {},
     "output_type": "execute_result"
    }
   ],
   "source": [
    "scores = X.dot(W)\n",
    "scores"
   ]
  },
  {
   "cell_type": "code",
   "execution_count": 65,
   "metadata": {},
   "outputs": [
    {
     "data": {
      "text/plain": [
       "array([[ 253. ],\n",
       "       [ 670. ],\n",
       "       [1115.8],\n",
       "       [1590.4],\n",
       "       [2093.8],\n",
       "       [2233. ],\n",
       "       [2722. ],\n",
       "       [3239.8],\n",
       "       [3786.4],\n",
       "       [4361.8]])"
      ]
     },
     "execution_count": 65,
     "metadata": {},
     "output_type": "execute_result"
    }
   ],
   "source": [
    "#correct_scores =scores[list(range(numTraining)), Y]\n",
    "correct_scores = scores[np.arange(numTraining), Y]\n",
    "correct_scores = correct_scores.reshape(numTraining, -1)\n",
    "correct_scores"
   ]
  },
  {
   "cell_type": "code",
   "execution_count": 81,
   "metadata": {},
   "outputs": [
    {
     "data": {
      "text/plain": [
       "array([[   0. ,    6.6,   13.2,   19.8,   26.4],\n",
       "       [ -21. ,    0. ,   21. ,   42. ,   63. ],\n",
       "       [ -70.8,  -35.4,    0. ,   35.4,   70.8],\n",
       "       [-149.4,  -99.6,  -49.8,    0. ,   49.8],\n",
       "       [-256.8, -192.6, -128.4,  -64.2,    0. ],\n",
       "       [   0. ,   78.6,  157.2,  235.8,  314.4],\n",
       "       [ -93. ,    0. ,   93. ,  186. ,  279. ],\n",
       "       [-214.8, -107.4,    0. ,  107.4,  214.8],\n",
       "       [-365.4, -243.6, -121.8,    0. ,  121.8],\n",
       "       [-544.8, -408.6, -272.4, -136.2,    0. ]])"
      ]
     },
     "execution_count": 81,
     "metadata": {},
     "output_type": "execute_result"
    }
   ],
   "source": [
    "margin = scores - correct_scores\n",
    "margin"
   ]
  },
  {
   "cell_type": "code",
   "execution_count": 82,
   "metadata": {},
   "outputs": [
    {
     "data": {
      "text/plain": [
       "array([[  1. ,   7.6,  14.2,  20.8,  27.4],\n",
       "       [  0. ,   1. ,  22. ,  43. ,  64. ],\n",
       "       [  0. ,   0. ,   1. ,  36.4,  71.8],\n",
       "       [  0. ,   0. ,   0. ,   1. ,  50.8],\n",
       "       [  0. ,   0. ,   0. ,   0. ,   1. ],\n",
       "       [  1. ,  79.6, 158.2, 236.8, 315.4],\n",
       "       [  0. ,   1. ,  94. , 187. , 280. ],\n",
       "       [  0. ,   0. ,   1. , 108.4, 215.8],\n",
       "       [  0. ,   0. ,   0. ,   1. , 122.8],\n",
       "       [  0. ,   0. ,   0. ,   0. ,   1. ]])"
      ]
     },
     "execution_count": 82,
     "metadata": {},
     "output_type": "execute_result"
    }
   ],
   "source": [
    "margin = np.maximum(0, scores - correct_scores + 1)\n",
    "margin"
   ]
  },
  {
   "cell_type": "code",
   "execution_count": 83,
   "metadata": {},
   "outputs": [
    {
     "data": {
      "text/plain": [
       "array([[  0. ,   7.6,  14.2,  20.8,  27.4],\n",
       "       [  0. ,   0. ,  22. ,  43. ,  64. ],\n",
       "       [  0. ,   0. ,   0. ,  36.4,  71.8],\n",
       "       [  0. ,   0. ,   0. ,   0. ,  50.8],\n",
       "       [  0. ,   0. ,   0. ,   0. ,   0. ],\n",
       "       [  0. ,  79.6, 158.2, 236.8, 315.4],\n",
       "       [  0. ,   0. ,  94. , 187. , 280. ],\n",
       "       [  0. ,   0. ,   0. , 108.4, 215.8],\n",
       "       [  0. ,   0. ,   0. ,   0. , 122.8],\n",
       "       [  0. ,   0. ,   0. ,   0. ,   0. ]])"
      ]
     },
     "execution_count": 83,
     "metadata": {},
     "output_type": "execute_result"
    }
   ],
   "source": [
    "margin[np.arange(numTraining), Y] = 0\n",
    "margin"
   ]
  },
  {
   "cell_type": "code",
   "execution_count": 85,
   "metadata": {},
   "outputs": [
    {
     "data": {
      "text/plain": [
       "215.59999999999997"
      ]
     },
     "execution_count": 85,
     "metadata": {},
     "output_type": "execute_result"
    }
   ],
   "source": [
    "loss = np.sum(margin) / numTraining\n",
    "loss"
   ]
  },
  {
   "cell_type": "code",
   "execution_count": null,
   "metadata": {},
   "outputs": [],
   "source": [
    "incorrect_mask = "
   ]
  }
 ],
 "metadata": {
  "kernelspec": {
   "display_name": "Python 3",
   "language": "python",
   "name": "python3"
  },
  "language_info": {
   "codemirror_mode": {
    "name": "ipython",
    "version": 3
   },
   "file_extension": ".py",
   "mimetype": "text/x-python",
   "name": "python",
   "nbconvert_exporter": "python",
   "pygments_lexer": "ipython3",
   "version": "3.6.5"
  }
 },
 "nbformat": 4,
 "nbformat_minor": 2
}
